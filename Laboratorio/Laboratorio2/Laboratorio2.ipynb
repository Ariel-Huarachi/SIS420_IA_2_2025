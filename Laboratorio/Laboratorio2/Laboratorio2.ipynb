{
  "cells": [
    {
      "cell_type": "markdown",
      "metadata": {
        "id": "tfwOfkjclHQx"
      },
      "source": [
        "# Ejercicio de programación Regresión Lineal Multiple"
      ]
    },
    {
      "cell_type": "code",
      "execution_count": 21,
      "metadata": {
        "id": "f0WGMMljlHQz"
      },
      "outputs": [],
      "source": [
        "# utilizado para manejos de directorios y rutas\n",
        "import os\n",
        "\n",
        "# Computacion vectorial y cientifica para python\n",
        "import numpy as np\n",
        "\n",
        "# Librerias para graficación (trazado de gráficos)\n",
        "from matplotlib import pyplot\n",
        "from mpl_toolkits.mplot3d import Axes3D  # Necesario para graficar superficies 3D\n",
        "\n",
        "# llama a matplotlib a embeber graficas dentro de los cuadernillos\n",
        "%matplotlib inline"
      ]
    },
    {
      "cell_type": "code",
      "source": [
        "from google.colab import drive\n",
        "drive.mount(\"/content/gdrive\")"
      ],
      "metadata": {
        "id": "LhERtghFlVGr",
        "colab": {
          "base_uri": "https://localhost:8080/"
        },
        "outputId": "f86620f8-15d6-452e-a2fa-810de296d290"
      },
      "execution_count": 22,
      "outputs": [
        {
          "output_type": "stream",
          "name": "stdout",
          "text": [
            "Mounted at /content/gdrive\n"
          ]
        }
      ]
    },
    {
      "cell_type": "code",
      "source": [
        "import pandas as pd\n",
        "import numpy as np\n",
        "import matplotlib.pyplot as plt\n",
        "import seaborn as sns\n"
      ],
      "metadata": {
        "id": "K-Ag--eLH9fW"
      },
      "execution_count": 23,
      "outputs": []
    },
    {
      "cell_type": "code",
      "source": [
        "# 2. Cargar dataset\n",
        "file_path = \"/content/gdrive/MyDrive/SIS420-INTELIGENCIA ARTIFICIAL/DATASET/online_shoppers_intention.csv\"  # Ajusta la ruta si está en tu Drive\n",
        "df = pd.read_csv(file_path)"
      ],
      "metadata": {
        "id": "Rcii_bvZLVX8"
      },
      "execution_count": 24,
      "outputs": []
    },
    {
      "cell_type": "markdown",
      "metadata": {
        "id": "G6-ykOwelHQ0"
      },
      "source": [
        "## 2 Visualizar\n"
      ]
    },
    {
      "cell_type": "code",
      "execution_count": 25,
      "metadata": {
        "id": "6BP5grkxlHQ0",
        "colab": {
          "base_uri": "https://localhost:8080/"
        },
        "outputId": "6452a8bb-30c3-415a-859a-58e96a7bad16"
      },
      "outputs": [
        {
          "output_type": "stream",
          "name": "stdout",
          "text": [
            "Dimensiones del dataset: (12330, 18)\n"
          ]
        }
      ],
      "source": [
        "# 3. Mostrar tamaño del dataset\n",
        "print(\"Dimensiones del dataset:\", df.shape)"
      ]
    },
    {
      "cell_type": "code",
      "source": [
        "df.head()"
      ],
      "metadata": {
        "colab": {
          "base_uri": "https://localhost:8080/",
          "height": 226
        },
        "id": "bV-OlDPMIGFV",
        "outputId": "1f57f20a-28d1-42d3-dc37-9047977a2847"
      },
      "execution_count": 26,
      "outputs": [
        {
          "output_type": "execute_result",
          "data": {
            "text/plain": [
              "   Administrative  Administrative_Duration  Informational  \\\n",
              "0               0                      0.0              0   \n",
              "1               0                      0.0              0   \n",
              "2               0                      0.0              0   \n",
              "3               0                      0.0              0   \n",
              "4               0                      0.0              0   \n",
              "\n",
              "   Informational_Duration  ProductRelated  ProductRelated_Duration  \\\n",
              "0                     0.0               1                 0.000000   \n",
              "1                     0.0               2                64.000000   \n",
              "2                     0.0               1                 0.000000   \n",
              "3                     0.0               2                 2.666667   \n",
              "4                     0.0              10               627.500000   \n",
              "\n",
              "   BounceRates  ExitRates  PageValues  SpecialDay Month  OperatingSystems  \\\n",
              "0         0.20       0.20         0.0         0.0   Feb                 1   \n",
              "1         0.00       0.10         0.0         0.0   Feb                 2   \n",
              "2         0.20       0.20         0.0         0.0   Feb                 4   \n",
              "3         0.05       0.14         0.0         0.0   Feb                 3   \n",
              "4         0.02       0.05         0.0         0.0   Feb                 3   \n",
              "\n",
              "   Browser  Region  TrafficType        VisitorType  Weekend  Revenue  \n",
              "0        1       1            1  Returning_Visitor    False    False  \n",
              "1        2       1            2  Returning_Visitor    False    False  \n",
              "2        1       9            3  Returning_Visitor    False    False  \n",
              "3        2       2            4  Returning_Visitor    False    False  \n",
              "4        3       1            4  Returning_Visitor     True    False  "
            ],
            "text/html": [
              "\n",
              "  <div id=\"df-d336cea8-3b23-4a5b-9057-cda6e8fa739f\" class=\"colab-df-container\">\n",
              "    <div>\n",
              "<style scoped>\n",
              "    .dataframe tbody tr th:only-of-type {\n",
              "        vertical-align: middle;\n",
              "    }\n",
              "\n",
              "    .dataframe tbody tr th {\n",
              "        vertical-align: top;\n",
              "    }\n",
              "\n",
              "    .dataframe thead th {\n",
              "        text-align: right;\n",
              "    }\n",
              "</style>\n",
              "<table border=\"1\" class=\"dataframe\">\n",
              "  <thead>\n",
              "    <tr style=\"text-align: right;\">\n",
              "      <th></th>\n",
              "      <th>Administrative</th>\n",
              "      <th>Administrative_Duration</th>\n",
              "      <th>Informational</th>\n",
              "      <th>Informational_Duration</th>\n",
              "      <th>ProductRelated</th>\n",
              "      <th>ProductRelated_Duration</th>\n",
              "      <th>BounceRates</th>\n",
              "      <th>ExitRates</th>\n",
              "      <th>PageValues</th>\n",
              "      <th>SpecialDay</th>\n",
              "      <th>Month</th>\n",
              "      <th>OperatingSystems</th>\n",
              "      <th>Browser</th>\n",
              "      <th>Region</th>\n",
              "      <th>TrafficType</th>\n",
              "      <th>VisitorType</th>\n",
              "      <th>Weekend</th>\n",
              "      <th>Revenue</th>\n",
              "    </tr>\n",
              "  </thead>\n",
              "  <tbody>\n",
              "    <tr>\n",
              "      <th>0</th>\n",
              "      <td>0</td>\n",
              "      <td>0.0</td>\n",
              "      <td>0</td>\n",
              "      <td>0.0</td>\n",
              "      <td>1</td>\n",
              "      <td>0.000000</td>\n",
              "      <td>0.20</td>\n",
              "      <td>0.20</td>\n",
              "      <td>0.0</td>\n",
              "      <td>0.0</td>\n",
              "      <td>Feb</td>\n",
              "      <td>1</td>\n",
              "      <td>1</td>\n",
              "      <td>1</td>\n",
              "      <td>1</td>\n",
              "      <td>Returning_Visitor</td>\n",
              "      <td>False</td>\n",
              "      <td>False</td>\n",
              "    </tr>\n",
              "    <tr>\n",
              "      <th>1</th>\n",
              "      <td>0</td>\n",
              "      <td>0.0</td>\n",
              "      <td>0</td>\n",
              "      <td>0.0</td>\n",
              "      <td>2</td>\n",
              "      <td>64.000000</td>\n",
              "      <td>0.00</td>\n",
              "      <td>0.10</td>\n",
              "      <td>0.0</td>\n",
              "      <td>0.0</td>\n",
              "      <td>Feb</td>\n",
              "      <td>2</td>\n",
              "      <td>2</td>\n",
              "      <td>1</td>\n",
              "      <td>2</td>\n",
              "      <td>Returning_Visitor</td>\n",
              "      <td>False</td>\n",
              "      <td>False</td>\n",
              "    </tr>\n",
              "    <tr>\n",
              "      <th>2</th>\n",
              "      <td>0</td>\n",
              "      <td>0.0</td>\n",
              "      <td>0</td>\n",
              "      <td>0.0</td>\n",
              "      <td>1</td>\n",
              "      <td>0.000000</td>\n",
              "      <td>0.20</td>\n",
              "      <td>0.20</td>\n",
              "      <td>0.0</td>\n",
              "      <td>0.0</td>\n",
              "      <td>Feb</td>\n",
              "      <td>4</td>\n",
              "      <td>1</td>\n",
              "      <td>9</td>\n",
              "      <td>3</td>\n",
              "      <td>Returning_Visitor</td>\n",
              "      <td>False</td>\n",
              "      <td>False</td>\n",
              "    </tr>\n",
              "    <tr>\n",
              "      <th>3</th>\n",
              "      <td>0</td>\n",
              "      <td>0.0</td>\n",
              "      <td>0</td>\n",
              "      <td>0.0</td>\n",
              "      <td>2</td>\n",
              "      <td>2.666667</td>\n",
              "      <td>0.05</td>\n",
              "      <td>0.14</td>\n",
              "      <td>0.0</td>\n",
              "      <td>0.0</td>\n",
              "      <td>Feb</td>\n",
              "      <td>3</td>\n",
              "      <td>2</td>\n",
              "      <td>2</td>\n",
              "      <td>4</td>\n",
              "      <td>Returning_Visitor</td>\n",
              "      <td>False</td>\n",
              "      <td>False</td>\n",
              "    </tr>\n",
              "    <tr>\n",
              "      <th>4</th>\n",
              "      <td>0</td>\n",
              "      <td>0.0</td>\n",
              "      <td>0</td>\n",
              "      <td>0.0</td>\n",
              "      <td>10</td>\n",
              "      <td>627.500000</td>\n",
              "      <td>0.02</td>\n",
              "      <td>0.05</td>\n",
              "      <td>0.0</td>\n",
              "      <td>0.0</td>\n",
              "      <td>Feb</td>\n",
              "      <td>3</td>\n",
              "      <td>3</td>\n",
              "      <td>1</td>\n",
              "      <td>4</td>\n",
              "      <td>Returning_Visitor</td>\n",
              "      <td>True</td>\n",
              "      <td>False</td>\n",
              "    </tr>\n",
              "  </tbody>\n",
              "</table>\n",
              "</div>\n",
              "    <div class=\"colab-df-buttons\">\n",
              "\n",
              "  <div class=\"colab-df-container\">\n",
              "    <button class=\"colab-df-convert\" onclick=\"convertToInteractive('df-d336cea8-3b23-4a5b-9057-cda6e8fa739f')\"\n",
              "            title=\"Convert this dataframe to an interactive table.\"\n",
              "            style=\"display:none;\">\n",
              "\n",
              "  <svg xmlns=\"http://www.w3.org/2000/svg\" height=\"24px\" viewBox=\"0 -960 960 960\">\n",
              "    <path d=\"M120-120v-720h720v720H120Zm60-500h600v-160H180v160Zm220 220h160v-160H400v160Zm0 220h160v-160H400v160ZM180-400h160v-160H180v160Zm440 0h160v-160H620v160ZM180-180h160v-160H180v160Zm440 0h160v-160H620v160Z\"/>\n",
              "  </svg>\n",
              "    </button>\n",
              "\n",
              "  <style>\n",
              "    .colab-df-container {\n",
              "      display:flex;\n",
              "      gap: 12px;\n",
              "    }\n",
              "\n",
              "    .colab-df-convert {\n",
              "      background-color: #E8F0FE;\n",
              "      border: none;\n",
              "      border-radius: 50%;\n",
              "      cursor: pointer;\n",
              "      display: none;\n",
              "      fill: #1967D2;\n",
              "      height: 32px;\n",
              "      padding: 0 0 0 0;\n",
              "      width: 32px;\n",
              "    }\n",
              "\n",
              "    .colab-df-convert:hover {\n",
              "      background-color: #E2EBFA;\n",
              "      box-shadow: 0px 1px 2px rgba(60, 64, 67, 0.3), 0px 1px 3px 1px rgba(60, 64, 67, 0.15);\n",
              "      fill: #174EA6;\n",
              "    }\n",
              "\n",
              "    .colab-df-buttons div {\n",
              "      margin-bottom: 4px;\n",
              "    }\n",
              "\n",
              "    [theme=dark] .colab-df-convert {\n",
              "      background-color: #3B4455;\n",
              "      fill: #D2E3FC;\n",
              "    }\n",
              "\n",
              "    [theme=dark] .colab-df-convert:hover {\n",
              "      background-color: #434B5C;\n",
              "      box-shadow: 0px 1px 3px 1px rgba(0, 0, 0, 0.15);\n",
              "      filter: drop-shadow(0px 1px 2px rgba(0, 0, 0, 0.3));\n",
              "      fill: #FFFFFF;\n",
              "    }\n",
              "  </style>\n",
              "\n",
              "    <script>\n",
              "      const buttonEl =\n",
              "        document.querySelector('#df-d336cea8-3b23-4a5b-9057-cda6e8fa739f button.colab-df-convert');\n",
              "      buttonEl.style.display =\n",
              "        google.colab.kernel.accessAllowed ? 'block' : 'none';\n",
              "\n",
              "      async function convertToInteractive(key) {\n",
              "        const element = document.querySelector('#df-d336cea8-3b23-4a5b-9057-cda6e8fa739f');\n",
              "        const dataTable =\n",
              "          await google.colab.kernel.invokeFunction('convertToInteractive',\n",
              "                                                    [key], {});\n",
              "        if (!dataTable) return;\n",
              "\n",
              "        const docLinkHtml = 'Like what you see? Visit the ' +\n",
              "          '<a target=\"_blank\" href=https://colab.research.google.com/notebooks/data_table.ipynb>data table notebook</a>'\n",
              "          + ' to learn more about interactive tables.';\n",
              "        element.innerHTML = '';\n",
              "        dataTable['output_type'] = 'display_data';\n",
              "        await google.colab.output.renderOutput(dataTable, element);\n",
              "        const docLink = document.createElement('div');\n",
              "        docLink.innerHTML = docLinkHtml;\n",
              "        element.appendChild(docLink);\n",
              "      }\n",
              "    </script>\n",
              "  </div>\n",
              "\n",
              "\n",
              "    <div id=\"df-62b8b07f-f3f6-4043-991f-106873b3c558\">\n",
              "      <button class=\"colab-df-quickchart\" onclick=\"quickchart('df-62b8b07f-f3f6-4043-991f-106873b3c558')\"\n",
              "                title=\"Suggest charts\"\n",
              "                style=\"display:none;\">\n",
              "\n",
              "<svg xmlns=\"http://www.w3.org/2000/svg\" height=\"24px\"viewBox=\"0 0 24 24\"\n",
              "     width=\"24px\">\n",
              "    <g>\n",
              "        <path d=\"M19 3H5c-1.1 0-2 .9-2 2v14c0 1.1.9 2 2 2h14c1.1 0 2-.9 2-2V5c0-1.1-.9-2-2-2zM9 17H7v-7h2v7zm4 0h-2V7h2v10zm4 0h-2v-4h2v4z\"/>\n",
              "    </g>\n",
              "</svg>\n",
              "      </button>\n",
              "\n",
              "<style>\n",
              "  .colab-df-quickchart {\n",
              "      --bg-color: #E8F0FE;\n",
              "      --fill-color: #1967D2;\n",
              "      --hover-bg-color: #E2EBFA;\n",
              "      --hover-fill-color: #174EA6;\n",
              "      --disabled-fill-color: #AAA;\n",
              "      --disabled-bg-color: #DDD;\n",
              "  }\n",
              "\n",
              "  [theme=dark] .colab-df-quickchart {\n",
              "      --bg-color: #3B4455;\n",
              "      --fill-color: #D2E3FC;\n",
              "      --hover-bg-color: #434B5C;\n",
              "      --hover-fill-color: #FFFFFF;\n",
              "      --disabled-bg-color: #3B4455;\n",
              "      --disabled-fill-color: #666;\n",
              "  }\n",
              "\n",
              "  .colab-df-quickchart {\n",
              "    background-color: var(--bg-color);\n",
              "    border: none;\n",
              "    border-radius: 50%;\n",
              "    cursor: pointer;\n",
              "    display: none;\n",
              "    fill: var(--fill-color);\n",
              "    height: 32px;\n",
              "    padding: 0;\n",
              "    width: 32px;\n",
              "  }\n",
              "\n",
              "  .colab-df-quickchart:hover {\n",
              "    background-color: var(--hover-bg-color);\n",
              "    box-shadow: 0 1px 2px rgba(60, 64, 67, 0.3), 0 1px 3px 1px rgba(60, 64, 67, 0.15);\n",
              "    fill: var(--button-hover-fill-color);\n",
              "  }\n",
              "\n",
              "  .colab-df-quickchart-complete:disabled,\n",
              "  .colab-df-quickchart-complete:disabled:hover {\n",
              "    background-color: var(--disabled-bg-color);\n",
              "    fill: var(--disabled-fill-color);\n",
              "    box-shadow: none;\n",
              "  }\n",
              "\n",
              "  .colab-df-spinner {\n",
              "    border: 2px solid var(--fill-color);\n",
              "    border-color: transparent;\n",
              "    border-bottom-color: var(--fill-color);\n",
              "    animation:\n",
              "      spin 1s steps(1) infinite;\n",
              "  }\n",
              "\n",
              "  @keyframes spin {\n",
              "    0% {\n",
              "      border-color: transparent;\n",
              "      border-bottom-color: var(--fill-color);\n",
              "      border-left-color: var(--fill-color);\n",
              "    }\n",
              "    20% {\n",
              "      border-color: transparent;\n",
              "      border-left-color: var(--fill-color);\n",
              "      border-top-color: var(--fill-color);\n",
              "    }\n",
              "    30% {\n",
              "      border-color: transparent;\n",
              "      border-left-color: var(--fill-color);\n",
              "      border-top-color: var(--fill-color);\n",
              "      border-right-color: var(--fill-color);\n",
              "    }\n",
              "    40% {\n",
              "      border-color: transparent;\n",
              "      border-right-color: var(--fill-color);\n",
              "      border-top-color: var(--fill-color);\n",
              "    }\n",
              "    60% {\n",
              "      border-color: transparent;\n",
              "      border-right-color: var(--fill-color);\n",
              "    }\n",
              "    80% {\n",
              "      border-color: transparent;\n",
              "      border-right-color: var(--fill-color);\n",
              "      border-bottom-color: var(--fill-color);\n",
              "    }\n",
              "    90% {\n",
              "      border-color: transparent;\n",
              "      border-bottom-color: var(--fill-color);\n",
              "    }\n",
              "  }\n",
              "</style>\n",
              "\n",
              "      <script>\n",
              "        async function quickchart(key) {\n",
              "          const quickchartButtonEl =\n",
              "            document.querySelector('#' + key + ' button');\n",
              "          quickchartButtonEl.disabled = true;  // To prevent multiple clicks.\n",
              "          quickchartButtonEl.classList.add('colab-df-spinner');\n",
              "          try {\n",
              "            const charts = await google.colab.kernel.invokeFunction(\n",
              "                'suggestCharts', [key], {});\n",
              "          } catch (error) {\n",
              "            console.error('Error during call to suggestCharts:', error);\n",
              "          }\n",
              "          quickchartButtonEl.classList.remove('colab-df-spinner');\n",
              "          quickchartButtonEl.classList.add('colab-df-quickchart-complete');\n",
              "        }\n",
              "        (() => {\n",
              "          let quickchartButtonEl =\n",
              "            document.querySelector('#df-62b8b07f-f3f6-4043-991f-106873b3c558 button');\n",
              "          quickchartButtonEl.style.display =\n",
              "            google.colab.kernel.accessAllowed ? 'block' : 'none';\n",
              "        })();\n",
              "      </script>\n",
              "    </div>\n",
              "\n",
              "    </div>\n",
              "  </div>\n"
            ],
            "application/vnd.google.colaboratory.intrinsic+json": {
              "type": "dataframe",
              "variable_name": "df",
              "summary": "{\n  \"name\": \"df\",\n  \"rows\": 12330,\n  \"fields\": [\n    {\n      \"column\": \"Administrative\",\n      \"properties\": {\n        \"dtype\": \"number\",\n        \"std\": 3,\n        \"min\": 0,\n        \"max\": 27,\n        \"num_unique_values\": 27,\n        \"samples\": [\n          5,\n          11,\n          9\n        ],\n        \"semantic_type\": \"\",\n        \"description\": \"\"\n      }\n    },\n    {\n      \"column\": \"Administrative_Duration\",\n      \"properties\": {\n        \"dtype\": \"number\",\n        \"std\": 176.77910747048236,\n        \"min\": 0.0,\n        \"max\": 3398.75,\n        \"num_unique_values\": 3335,\n        \"samples\": [\n          93.6,\n          63.08333333,\n          351.0833333\n        ],\n        \"semantic_type\": \"\",\n        \"description\": \"\"\n      }\n    },\n    {\n      \"column\": \"Informational\",\n      \"properties\": {\n        \"dtype\": \"number\",\n        \"std\": 1,\n        \"min\": 0,\n        \"max\": 24,\n        \"num_unique_values\": 17,\n        \"samples\": [\n          0,\n          1,\n          5\n        ],\n        \"semantic_type\": \"\",\n        \"description\": \"\"\n      }\n    },\n    {\n      \"column\": \"Informational_Duration\",\n      \"properties\": {\n        \"dtype\": \"number\",\n        \"std\": 140.74929442219084,\n        \"min\": 0.0,\n        \"max\": 2549.375,\n        \"num_unique_values\": 1258,\n        \"samples\": [\n          793.8,\n          50.0,\n          57.0\n        ],\n        \"semantic_type\": \"\",\n        \"description\": \"\"\n      }\n    },\n    {\n      \"column\": \"ProductRelated\",\n      \"properties\": {\n        \"dtype\": \"number\",\n        \"std\": 44,\n        \"min\": 0,\n        \"max\": 705,\n        \"num_unique_values\": 311,\n        \"samples\": [\n          330,\n          23,\n          54\n        ],\n        \"semantic_type\": \"\",\n        \"description\": \"\"\n      }\n    },\n    {\n      \"column\": \"ProductRelated_Duration\",\n      \"properties\": {\n        \"dtype\": \"number\",\n        \"std\": 1913.6692878719944,\n        \"min\": 0.0,\n        \"max\": 63973.52223,\n        \"num_unique_values\": 9551,\n        \"samples\": [\n          225.68,\n          232.6666667,\n          2834.280117\n        ],\n        \"semantic_type\": \"\",\n        \"description\": \"\"\n      }\n    },\n    {\n      \"column\": \"BounceRates\",\n      \"properties\": {\n        \"dtype\": \"number\",\n        \"std\": 0.04848832180626314,\n        \"min\": 0.0,\n        \"max\": 0.2,\n        \"num_unique_values\": 1872,\n        \"samples\": [\n          0.004778942,\n          0.010793651,\n          0.005073996\n        ],\n        \"semantic_type\": \"\",\n        \"description\": \"\"\n      }\n    },\n    {\n      \"column\": \"ExitRates\",\n      \"properties\": {\n        \"dtype\": \"number\",\n        \"std\": 0.04859654055144408,\n        \"min\": 0.0,\n        \"max\": 0.2,\n        \"num_unique_values\": 4777,\n        \"samples\": [\n          0.120833333,\n          0.006857143,\n          0.008914729\n        ],\n        \"semantic_type\": \"\",\n        \"description\": \"\"\n      }\n    },\n    {\n      \"column\": \"PageValues\",\n      \"properties\": {\n        \"dtype\": \"number\",\n        \"std\": 18.56843660780723,\n        \"min\": 0.0,\n        \"max\": 361.7637419,\n        \"num_unique_values\": 2704,\n        \"samples\": [\n          54.65714872,\n          20.97239726,\n          11.65996434\n        ],\n        \"semantic_type\": \"\",\n        \"description\": \"\"\n      }\n    },\n    {\n      \"column\": \"SpecialDay\",\n      \"properties\": {\n        \"dtype\": \"number\",\n        \"std\": 0.19891727315262578,\n        \"min\": 0.0,\n        \"max\": 1.0,\n        \"num_unique_values\": 6,\n        \"samples\": [\n          0.0,\n          0.4,\n          0.6\n        ],\n        \"semantic_type\": \"\",\n        \"description\": \"\"\n      }\n    },\n    {\n      \"column\": \"Month\",\n      \"properties\": {\n        \"dtype\": \"category\",\n        \"num_unique_values\": 10,\n        \"samples\": [\n          \"Sep\",\n          \"Mar\",\n          \"Jul\"\n        ],\n        \"semantic_type\": \"\",\n        \"description\": \"\"\n      }\n    },\n    {\n      \"column\": \"OperatingSystems\",\n      \"properties\": {\n        \"dtype\": \"number\",\n        \"std\": 0,\n        \"min\": 1,\n        \"max\": 8,\n        \"num_unique_values\": 8,\n        \"samples\": [\n          2,\n          6,\n          1\n        ],\n        \"semantic_type\": \"\",\n        \"description\": \"\"\n      }\n    },\n    {\n      \"column\": \"Browser\",\n      \"properties\": {\n        \"dtype\": \"number\",\n        \"std\": 1,\n        \"min\": 1,\n        \"max\": 13,\n        \"num_unique_values\": 13,\n        \"samples\": [\n          13,\n          9,\n          1\n        ],\n        \"semantic_type\": \"\",\n        \"description\": \"\"\n      }\n    },\n    {\n      \"column\": \"Region\",\n      \"properties\": {\n        \"dtype\": \"number\",\n        \"std\": 2,\n        \"min\": 1,\n        \"max\": 9,\n        \"num_unique_values\": 9,\n        \"samples\": [\n          7,\n          9,\n          5\n        ],\n        \"semantic_type\": \"\",\n        \"description\": \"\"\n      }\n    },\n    {\n      \"column\": \"TrafficType\",\n      \"properties\": {\n        \"dtype\": \"number\",\n        \"std\": 4,\n        \"min\": 1,\n        \"max\": 20,\n        \"num_unique_values\": 20,\n        \"samples\": [\n          1,\n          16,\n          18\n        ],\n        \"semantic_type\": \"\",\n        \"description\": \"\"\n      }\n    },\n    {\n      \"column\": \"VisitorType\",\n      \"properties\": {\n        \"dtype\": \"category\",\n        \"num_unique_values\": 3,\n        \"samples\": [\n          \"Returning_Visitor\",\n          \"New_Visitor\",\n          \"Other\"\n        ],\n        \"semantic_type\": \"\",\n        \"description\": \"\"\n      }\n    },\n    {\n      \"column\": \"Weekend\",\n      \"properties\": {\n        \"dtype\": \"boolean\",\n        \"num_unique_values\": 2,\n        \"samples\": [\n          true,\n          false\n        ],\n        \"semantic_type\": \"\",\n        \"description\": \"\"\n      }\n    },\n    {\n      \"column\": \"Revenue\",\n      \"properties\": {\n        \"dtype\": \"boolean\",\n        \"num_unique_values\": 2,\n        \"samples\": [\n          true,\n          false\n        ],\n        \"semantic_type\": \"\",\n        \"description\": \"\"\n      }\n    }\n  ]\n}"
            }
          },
          "metadata": {},
          "execution_count": 26
        }
      ]
    },
    {
      "cell_type": "code",
      "source": [
        "# Copiar el dataset original\n",
        "df_clean = df.copy()\n",
        "\n",
        "# 1. Convertir columnas booleanas a números\n",
        "df_clean[\"Weekend\"] = df_clean[\"Weekend\"].astype(int)\n",
        "df_clean[\"Revenue\"] = df_clean[\"Revenue\"].astype(int)\n",
        "\n",
        "# 2. Convertir columnas categóricas (Month y VisitorType) a variables numéricas\n",
        "df_clean = pd.get_dummies(df_clean, columns=[\"Month\", \"VisitorType\"], drop_first=True)\n",
        "\n",
        "# 3. Definir variables predictoras (X) y variable objetivo (y)\n",
        "X = df_clean.drop(columns=[\"Revenue\"]).to_numpy()  # todas las columnas excepto Revenue\n",
        "y = df_clean[\"Revenue\"].to_numpy()\n",
        "\n",
        "# Verificar resultado\n",
        "print(\"Dimensiones de X:\", X.shape)\n",
        "print(\"Dimensiones de y:\", y.shape)\n",
        "\n",
        "# Ver columnas en DataFrame\n",
        "print(\"\\nColumnas finales de X (pandas):\\n\", df_clean.drop(columns=[\"Revenue\"]).columns)\n",
        "\n"
      ],
      "metadata": {
        "colab": {
          "base_uri": "https://localhost:8080/"
        },
        "id": "Q0RSaZZEPXvl",
        "outputId": "295ef58b-27a9-4ab9-d7d5-5cc5bcc65448"
      },
      "execution_count": 27,
      "outputs": [
        {
          "output_type": "stream",
          "name": "stdout",
          "text": [
            "Dimensiones de X: (12330, 26)\n",
            "Dimensiones de y: (12330,)\n",
            "\n",
            "Columnas finales de X (pandas):\n",
            " Index(['Administrative', 'Administrative_Duration', 'Informational',\n",
            "       'Informational_Duration', 'ProductRelated', 'ProductRelated_Duration',\n",
            "       'BounceRates', 'ExitRates', 'PageValues', 'SpecialDay',\n",
            "       'OperatingSystems', 'Browser', 'Region', 'TrafficType', 'Weekend',\n",
            "       'Month_Dec', 'Month_Feb', 'Month_Jul', 'Month_June', 'Month_Mar',\n",
            "       'Month_May', 'Month_Nov', 'Month_Oct', 'Month_Sep', 'VisitorType_Other',\n",
            "       'VisitorType_Returning_Visitor'],\n",
            "      dtype='object')\n"
          ]
        }
      ]
    },
    {
      "cell_type": "code",
      "source": [
        "# Seleccionar solo 2 variables predictoras\n",
        "X_columns = [\"Administrative\", \"PageValues\"]\n",
        "\n",
        "X = df_clean[X_columns].to_numpy()\n",
        "y = df_clean[\"Revenue\"].to_numpy()\n",
        "\n",
        "# Normalizar\n",
        "X_norm, mu, sigma = featureNormalize(X)\n",
        "\n",
        "# Agregar columna de 1's para el bias\n",
        "m = y.size\n",
        "\n",
        "\n",
        "print(\"Número de ejemplos (m):\", m)\n",
        "print(\"Número de características (n):\", X.shape[1])  # debería dar 3 (bias + 2 variables)\n"
      ],
      "metadata": {
        "colab": {
          "base_uri": "https://localhost:8080/"
        },
        "id": "DUWI3eSbQqDe",
        "outputId": "ff890780-0114-47ab-8f0d-ba28fd457226"
      },
      "execution_count": 31,
      "outputs": [
        {
          "output_type": "stream",
          "name": "stdout",
          "text": [
            "Número de ejemplos (m): 12330\n",
            "Número de características (n): 2\n"
          ]
        }
      ]
    },
    {
      "cell_type": "code",
      "source": [
        "print(X)"
      ],
      "metadata": {
        "colab": {
          "base_uri": "https://localhost:8080/"
        },
        "id": "ADYvhLjgQuQU",
        "outputId": "dc36b57d-7438-47be-f1ee-28e05506b6ab"
      },
      "execution_count": 32,
      "outputs": [
        {
          "output_type": "stream",
          "name": "stdout",
          "text": [
            "[[0. 0.]\n",
            " [0. 0.]\n",
            " [0. 0.]\n",
            " ...\n",
            " [0. 0.]\n",
            " [4. 0.]\n",
            " [0. 0.]]\n"
          ]
        }
      ]
    },
    {
      "cell_type": "code",
      "source": [
        "print(y)"
      ],
      "metadata": {
        "colab": {
          "base_uri": "https://localhost:8080/"
        },
        "id": "GcG1DknpQ4Gc",
        "outputId": "e6a84c0c-1d6a-424b-a620-825b8c2caca3"
      },
      "execution_count": 33,
      "outputs": [
        {
          "output_type": "stream",
          "name": "stdout",
          "text": [
            "[0 0 0 ... 0 0 0]\n"
          ]
        }
      ]
    },
    {
      "cell_type": "code",
      "execution_count": 35,
      "metadata": {
        "id": "7xFD8H3WlHQ1"
      },
      "outputs": [],
      "source": [
        "def  featureNormalize(X):\n",
        "\n",
        "    X_norm = X.copy()\n",
        "    mu = np.zeros(X.shape[1])\n",
        "    sigma = np.zeros(X.shape[1])\n",
        "\n",
        "    mu = np.mean(X, axis = 0)\n",
        "    sigma = np.std(X, axis = 0)\n",
        "    X_norm = (X - mu) / sigma\n",
        "\n",
        "    return X_norm, mu, sigma"
      ]
    },
    {
      "cell_type": "code",
      "execution_count": 36,
      "metadata": {
        "id": "ipL_QsTZlHQ2",
        "colab": {
          "base_uri": "https://localhost:8080/"
        },
        "outputId": "1308741c-de3c-4a1a-a805-ae352c8f2b6b"
      },
      "outputs": [
        {
          "output_type": "stream",
          "name": "stdout",
          "text": [
            "[[0. 0.]\n",
            " [0. 0.]\n",
            " [0. 0.]\n",
            " ...\n",
            " [0. 0.]\n",
            " [4. 0.]\n",
            " [0. 0.]]\n",
            "Media calculada: [2.31516626 5.88925786]\n",
            "Desviación estandar calculada: [ 3.3216494  18.56768361]\n",
            "[[-0.69699296 -0.31717784]\n",
            " [-0.69699296 -0.31717784]\n",
            " [-0.69699296 -0.31717784]\n",
            " ...\n",
            " [-0.69699296 -0.31717784]\n",
            " [ 0.50722805 -0.31717784]\n",
            " [-0.69699296 -0.31717784]]\n"
          ]
        }
      ],
      "source": [
        "# Convertir X a float\n",
        "X = X.astype(float)\n",
        "\n",
        "# llama featureNormalize con los datos cargados\n",
        "X_norm, mu, sigma = featureNormalize(X)\n",
        "\n",
        "print(X)\n",
        "print('Media calculada:', mu)\n",
        "print('Desviación estandar calculada:', sigma)\n",
        "print(X_norm)"
      ]
    },
    {
      "cell_type": "code",
      "source": [],
      "metadata": {
        "id": "Tw-uAOTXQVoV"
      },
      "execution_count": null,
      "outputs": []
    },
    {
      "cell_type": "markdown",
      "metadata": {
        "id": "it9bMYuLlHQ2"
      },
      "source": [
        "Despues de `featureNormalize` la funcion es provada, se añade el temino de interseccion a `X_norm`:"
      ]
    },
    {
      "cell_type": "code",
      "execution_count": 37,
      "metadata": {
        "id": "nNaGVxgolHQ2"
      },
      "outputs": [],
      "source": [
        "# Añade el termino de interseccion a X\n",
        "# (Columna de unos para X0)\n",
        "X = np.concatenate([np.ones((m, 1)), X_norm], axis=1)"
      ]
    },
    {
      "cell_type": "code",
      "execution_count": 38,
      "metadata": {
        "id": "nbUVohnhlHQ3",
        "colab": {
          "base_uri": "https://localhost:8080/"
        },
        "outputId": "678482c1-2157-4931-ce66-29b70795fb5a"
      },
      "outputs": [
        {
          "output_type": "stream",
          "name": "stdout",
          "text": [
            "[[ 1.         -0.69699296 -0.31717784]\n",
            " [ 1.         -0.69699296 -0.31717784]\n",
            " [ 1.         -0.69699296 -0.31717784]\n",
            " ...\n",
            " [ 1.         -0.69699296 -0.31717784]\n",
            " [ 1.          0.50722805 -0.31717784]\n",
            " [ 1.         -0.69699296 -0.31717784]]\n"
          ]
        }
      ],
      "source": [
        "print(X)"
      ]
    },
    {
      "cell_type": "markdown",
      "metadata": {
        "id": "xzLiIE6NlHQ3"
      },
      "source": [
        "<a id=\"section5\"></a>\n",
        "### 2.2 Descenso por el gradiente\n",
        "\n",
        "En el ejemplo anterior se implemento el descenso por el gradiente para un problema de regresion univariable. La unica diferencia es que ahora existe una caracteristica adicional en la matriz $X$. La función de hipótesis y la regla de actualización del descenso del gradiente por lotes permanecen sin cambios.\n",
        "\n",
        "La implementacion de las funciones `computeCostMulti` y `gradientDescentMulti` son similares a la funcion de costo y función de descenso por el gradiente de la regresión lineal multiple es similar al de la regresion lineal multivariable. Es importante garantizar que el codigo soporte cualquier numero de caracteristicas y esten bien vectorizadas.\n",
        "\n",
        "Se puede utilizar `shape`, propiedad de los arrays `numpy`, para identificar cuantas caracteristicas estan consideradas en el dataset.\n",
        "\n",
        "<div class=\"alert alert-block alert-warning\">\n",
        "**Nota de implementación:** En el caso de multivariables, la función de costo puede se escrita considerando la forma vectorizada de la siguiente manera:\n",
        "\n",
        "$$ J(\\theta) = \\frac{1}{2m}(X\\theta - \\vec{y})^T(X\\theta - \\vec{y}) $$\n",
        "\n",
        "donde:\n",
        "\n",
        "$$ X = \\begin{pmatrix}\n",
        "- (x^{(1)})^T - \\\\\n",
        "- (x^{(2)})^T - \\\\\n",
        "\\vdots \\\\\n",
        "- (x^{(m)})^T - \\\\ \\\\\n",
        "\\end{pmatrix} \\qquad \\mathbf{y} = \\begin{bmatrix} y^{(1)} \\\\ y^{(2)} \\\\ \\vdots \\\\ y^{(m)} \\\\\\end{bmatrix}$$\n",
        "\n",
        "La version vectorizada es eficiente cuando se trabaja con herramientas de calculo numericos computacional como `numpy`.\n",
        "</div>\n",
        "\n",
        "<a id=\"computeCostMulti\"></a>"
      ]
    },
    {
      "cell_type": "code",
      "execution_count": 39,
      "metadata": {
        "id": "EQCMN7KqlHQ3"
      },
      "outputs": [],
      "source": [
        "def computeCostMulti(X, y, theta):\n",
        "    # Inicializa algunos valores utiles\n",
        "    m = y.shape[0] # numero de ejemplos de entrenamiento\n",
        "\n",
        "    J = 0\n",
        "\n",
        "    # h = np.dot(X, theta)\n",
        "\n",
        "    J = (1/(2 * m)) * np.sum(np.square(np.dot(X, theta) - y))\n",
        "\n",
        "    return J\n"
      ]
    },
    {
      "cell_type": "code",
      "execution_count": 40,
      "metadata": {
        "id": "Vdy_aQUklHQ4"
      },
      "outputs": [],
      "source": [
        "def gradientDescentMulti(X, y, theta, alpha, num_iters):\n",
        "\n",
        "    # Inicializa algunos valores\n",
        "    m = y.shape[0] # numero de ejemplos de entrenamiento\n",
        "\n",
        "    # realiza una copia de theta, el cual será acutalizada por el descenso por el gradiente\n",
        "\n",
        "    theta = theta.copy()\n",
        "\n",
        "    J_history = []\n",
        "\n",
        "    for i in range(num_iters):\n",
        "        theta = theta - (alpha / m) * (np.dot(X, theta) - y).dot(X)\n",
        "        J_history.append(computeCostMulti(X, y, theta))\n",
        "\n",
        "    return theta, J_history"
      ]
    },
    {
      "cell_type": "markdown",
      "metadata": {
        "id": "a8b_GwZslHQ4"
      },
      "source": [
        "#### 3.2.1 Seleccionando coheficientes de aprendizaje\n"
      ]
    },
    {
      "cell_type": "code",
      "execution_count": 41,
      "metadata": {
        "id": "sId0DiH9lHQ4",
        "colab": {
          "base_uri": "https://localhost:8080/",
          "height": 823
        },
        "outputId": "9494f63f-d48f-40b4-a380-c8085add2527"
      },
      "outputs": [
        {
          "output_type": "display_data",
          "data": {
            "text/plain": [
              "<Figure size 640x480 with 1 Axes>"
            ],
            "image/png": "[encoded data removed]"
          },
          "metadata": {}
        },
        {
          "output_type": "stream",
          "name": "stdout",
          "text": [
            "Theta calculado por el descenso por el gradiente: [0.15191595 0.03357989 0.17167727]\n",
            "Primeras 100 predicciones:\n",
            "[0.07405878 0.07405878 0.07405878 0.07405878 0.07405878 0.07405878\n",
            " 0.07405878 0.08416818 0.07405878 0.07405878 0.07405878 0.07405878\n",
            " 0.07405878 0.07405878 0.07405878 0.09427758 0.07405878 0.07405878\n",
            " 0.07405878 0.07405878 0.07405878 0.07405878 0.07405878 0.07405878\n",
            " 0.07405878 0.07405878 0.11449638 0.07405878 0.07405878 0.58511564\n",
            " 0.07405878 0.07405878 0.07405878 0.07405878 0.07405878 0.07405878\n",
            " 0.07405878 0.09427758 0.07405878 0.07405878 0.08416818 0.07405878\n",
            " 0.07405878 0.07405878 0.07405878 0.07405878 0.07405878 0.07405878\n",
            " 0.07405878 0.07405878 0.07405878 0.07405878 0.07405878 0.07405878\n",
            " 0.07405878 0.07405878 0.07405878 0.29430456 0.07405878 0.09427758\n",
            " 0.07405878 0.07405878 0.54957287 0.07405878 0.07405878 0.31626922\n",
            " 0.11449638 0.07405878 0.07405878 0.07405878 0.07405878 0.07405878\n",
            " 0.07405878 0.07405878 0.07405878 0.07405878 0.28092188 0.07405878\n",
            " 0.07405878 0.07405878 0.07405878 0.07405878 0.07405878 0.07405878\n",
            " 0.07405878 0.07405878 0.07405878 0.07405878 0.07405878 0.07405878\n",
            " 0.09427758 0.07405878 0.07405878 0.07405878 0.07405878 0.07405878\n",
            " 0.07405878 0.07405878 0.07405878 0.07405878]\n"
          ]
        }
      ],
      "source": [
        "# Elegir algún valor para alpha (probar varias alternativas)\n",
        "alpha = 0.001  # también puedes probar alpha = 0.003\n",
        "num_iters = 4000\n",
        "\n",
        "# Inicializa theta y ejecuta el descenso por el gradiente\n",
        "theta = np.zeros(3)   # 3 porque tienes bias + 2 variables\n",
        "theta, J_history = gradientDescentMulti(X, y, theta, alpha, num_iters)\n",
        "\n",
        "# Graficar la convergencia del costo\n",
        "import matplotlib.pyplot as plt\n",
        "plt.plot(np.arange(len(J_history)), J_history, lw=2)\n",
        "plt.xlabel('Número de iteraciones')\n",
        "plt.ylabel('Costo J')\n",
        "plt.title('Convergencia del costo (2 variables)')\n",
        "plt.show()\n",
        "\n",
        "# Muestra los resultados del descenso por el gradiente\n",
        "print('Theta calculado por el descenso por el gradiente: {:s}'.format(str(theta)))\n",
        "\n",
        "# ========================\n",
        "# Predicciones con tu dataset\n",
        "# ========================\n",
        "y_pred = np.dot(X, theta)\n",
        "\n",
        "# Mostrar primeras 100 predicciones\n",
        "print(\"Primeras 100 predicciones:\")\n",
        "print(y_pred[:100])\n"
      ]
    },
    {
      "cell_type": "code",
      "execution_count": 42,
      "metadata": {
        "id": "y0aZhWEqlHQ4"
      },
      "outputs": [],
      "source": [
        "X_array = [1, 1222, 3]\n",
        "X_array[1:3] = (X_array[1:3] - mu) / sigma"
      ]
    },
    {
      "cell_type": "code",
      "execution_count": 43,
      "metadata": {
        "id": "KZ4G9CbJlHQ4",
        "colab": {
          "base_uri": "https://localhost:8080/"
        },
        "outputId": "a57126c4-7e90-40cf-c68b-b6f58d07aa34"
      },
      "outputs": [
        {
          "output_type": "stream",
          "name": "stdout",
          "text": [
            "El precio predecido para una casa de 1222 sq-ft y 3 dormitorios (usando el descenso por el gradiente): $12\n"
          ]
        }
      ],
      "source": [
        "price = np.dot(X_array, theta)   # Se debe cambiar esto\n",
        "\n",
        "print('El precio predecido para una casa de 1222 sq-ft y 3 dormitorios (usando el descenso por el gradiente): ${:.0f}'.format(price))"
      ]
    },
    {
      "cell_type": "markdown",
      "source": [
        "#regresión polinómica"
      ],
      "metadata": {
        "id": "93Sg3cEeht4k"
      }
    },
    {
      "cell_type": "code",
      "source": [
        "# Tomamos 4 features de ejemplo del dataset\n",
        "X = df[[\"Administrative\", \"Administrative_Duration\",\n",
        "        \"ProductRelated\", \"ProductRelated_Duration\"]].to_numpy()\n",
        "\n",
        "y = df[\"Revenue\"].to_numpy()\n",
        "\n",
        "m = y.shape[0]\n",
        "print(\"Número de ejemplos:\", m)\n",
        "print(\"Shape de X:\", X.shape)\n"
      ],
      "metadata": {
        "colab": {
          "base_uri": "https://localhost:8080/"
        },
        "id": "Wow5KQl3h238",
        "outputId": "ddc83f15-fb9a-42f5-c1af-bb6ab8f0cc38"
      },
      "execution_count": 44,
      "outputs": [
        {
          "output_type": "stream",
          "name": "stdout",
          "text": [
            "Número de ejemplos: 12330\n",
            "Shape de X: (12330, 4)\n"
          ]
        }
      ]
    },
    {
      "cell_type": "code",
      "source": [
        "import matplotlib.pyplot as plt\n",
        "\n",
        "def plotData(x, y):\n",
        "    #Grafica los puntos x e y en una figura nueva.\n",
        "    fig = plt.figure()  # abre una nueva figura\n",
        "\n",
        "    plt.plot(x, y, 'ro', ms=10, mec='k')\n",
        "    plt.ylabel('Revenue (0 = No compra, 1 = Compra)')\n",
        "    plt.xlabel('Administrative_Duration')\n",
        "    plt.title('Relación entre Administrative_Duration y Revenue')\n",
        "    plt.show()\n",
        "\n"
      ],
      "metadata": {
        "id": "UfeCYAotqzDt"
      },
      "execution_count": 45,
      "outputs": []
    },
    {
      "cell_type": "code",
      "source": [
        "plotData(X, y)"
      ],
      "metadata": {
        "colab": {
          "base_uri": "https://localhost:8080/",
          "height": 472
        },
        "id": "TthYlRtArGi0",
        "outputId": "cda8962d-c342-4f20-c894-a15d53f3df52"
      },
      "execution_count": 46,
      "outputs": [
        {
          "output_type": "display_data",
          "data": {
            "text/plain": [
              "<Figure size 640x480 with 1 Axes>"
            ],
            "image/png": "[encoded data removed]"
          },
          "metadata": {}
        }
      ]
    },
    {
      "cell_type": "code",
      "source": [
        "X = np.concatenate([X, X * X], axis=1)"
      ],
      "metadata": {
        "id": "pcPtClh5svHV"
      },
      "execution_count": 47,
      "outputs": []
    },
    {
      "cell_type": "code",
      "source": [
        "print(X)"
      ],
      "metadata": {
        "colab": {
          "base_uri": "https://localhost:8080/"
        },
        "id": "hTGZFRghs-ST",
        "outputId": "425a0f79-45cb-45c1-830f-700cb137ac47"
      },
      "execution_count": 48,
      "outputs": [
        {
          "output_type": "stream",
          "name": "stdout",
          "text": [
            "[[0.00000000e+00 0.00000000e+00 1.00000000e+00 ... 0.00000000e+00\n",
            "  1.00000000e+00 0.00000000e+00]\n",
            " [0.00000000e+00 0.00000000e+00 2.00000000e+00 ... 0.00000000e+00\n",
            "  4.00000000e+00 4.09600000e+03]\n",
            " [0.00000000e+00 0.00000000e+00 1.00000000e+00 ... 0.00000000e+00\n",
            "  1.00000000e+00 0.00000000e+00]\n",
            " ...\n",
            " [0.00000000e+00 0.00000000e+00 6.00000000e+00 ... 0.00000000e+00\n",
            "  3.60000000e+01 3.39480625e+04]\n",
            " [4.00000000e+00 7.50000000e+01 1.50000000e+01 ... 5.62500000e+03\n",
            "  2.25000000e+02 1.19716000e+05]\n",
            " [0.00000000e+00 0.00000000e+00 3.00000000e+00 ... 0.00000000e+00\n",
            "  9.00000000e+00 4.51562500e+02]]\n"
          ]
        }
      ]
    },
    {
      "cell_type": "code",
      "source": [
        "def  featureNormalize(X):\n",
        "    X_norm = X.copy()\n",
        "    mu = np.zeros(X.shape[1])\n",
        "    sigma = np.zeros(X.shape[1])\n",
        "\n",
        "    mu = np.mean(X, axis = 0)\n",
        "    sigma = np.std(X, axis = 0)\n",
        "    X_norm = (X - mu) / sigma\n",
        "\n",
        "    return X_norm, mu, sigma"
      ],
      "metadata": {
        "id": "aDD5Qe1_tHQD"
      },
      "execution_count": 49,
      "outputs": []
    },
    {
      "cell_type": "code",
      "source": [
        "# llama featureNormalize con los datos cargados\n",
        "X_norm, mu, sigma = featureNormalize(X)\n",
        "\n",
        "#print(X)\n",
        "#print('Media calculada:', mu)\n",
        "#print('Desviación estandar calculada:', sigma)\n",
        "#print(X_norm)"
      ],
      "metadata": {
        "id": "nkEhGMlrtMKE"
      },
      "execution_count": 123,
      "outputs": []
    },
    {
      "cell_type": "code",
      "source": [
        "print(X_norm)"
      ],
      "metadata": {
        "colab": {
          "base_uri": "https://localhost:8080/"
        },
        "id": "TomQWzsftO-c",
        "outputId": "3f9dde49-09d4-45b0-c168-ee8e911c9612"
      },
      "execution_count": 50,
      "outputs": [
        {
          "output_type": "stream",
          "name": "stdout",
          "text": [
            "[[-0.69699296 -0.31717784]\n",
            " [-0.69699296 -0.31717784]\n",
            " [-0.69699296 -0.31717784]\n",
            " ...\n",
            " [-0.69699296 -0.31717784]\n",
            " [ 0.50722805 -0.31717784]\n",
            " [-0.69699296 -0.31717784]]\n"
          ]
        }
      ]
    },
    {
      "cell_type": "code",
      "source": [
        "plotData(X_norm[:,1], y)"
      ],
      "metadata": {
        "colab": {
          "base_uri": "https://localhost:8080/",
          "height": 472
        },
        "id": "7uiBGbyKtTmD",
        "outputId": "5e3f8cba-f561-4d3d-aade-ab338ec1758b"
      },
      "execution_count": 51,
      "outputs": [
        {
          "output_type": "display_data",
          "data": {
            "text/plain": [
              "<Figure size 640x480 with 1 Axes>"
            ],
            "image/png": "[encoded data removed]"
          },
          "metadata": {}
        }
      ]
    },
    {
      "cell_type": "code",
      "source": [
        "# Añade el termino de interseccion a X\n",
        "# (Columna de unos para X0)\n",
        "#X_norm = np.concatenate([X_norm, X_norm * X_norm], axis=1)\n",
        "X = np.concatenate([np.ones((m, 1)), X_norm], axis=1)"
      ],
      "metadata": {
        "id": "4n5zTMGftX5T"
      },
      "execution_count": 52,
      "outputs": []
    },
    {
      "cell_type": "code",
      "source": [
        "print(X)"
      ],
      "metadata": {
        "colab": {
          "base_uri": "https://localhost:8080/"
        },
        "id": "KrYp8rE2tZ0E",
        "outputId": "981436c7-6730-4512-d224-dd7f34fe8dff"
      },
      "execution_count": 53,
      "outputs": [
        {
          "output_type": "stream",
          "name": "stdout",
          "text": [
            "[[ 1.         -0.69699296 -0.31717784]\n",
            " [ 1.         -0.69699296 -0.31717784]\n",
            " [ 1.         -0.69699296 -0.31717784]\n",
            " ...\n",
            " [ 1.         -0.69699296 -0.31717784]\n",
            " [ 1.          0.50722805 -0.31717784]\n",
            " [ 1.         -0.69699296 -0.31717784]]\n"
          ]
        }
      ]
    },
    {
      "cell_type": "markdown",
      "source": [
        " #Descenso por el gradiente"
      ],
      "metadata": {
        "id": "RCeSmZ49tdHL"
      }
    },
    {
      "cell_type": "code",
      "source": [
        "def computeCostMulti(X, y, theta):\n",
        "    # Inicializa algunos valores utiles\n",
        "    m = y.shape[0] # numero de ejemplos de entrenamiento\n",
        "\n",
        "    J = 0\n",
        "\n",
        "    h = np.dot(X, theta)\n",
        "\n",
        "    J = (1/(2 * m)) * np.sum(np.square(np.dot(X, theta) - y))\n",
        "\n",
        "    return J\n"
      ],
      "metadata": {
        "id": "pw8PsZaGtgVL"
      },
      "execution_count": 54,
      "outputs": []
    },
    {
      "cell_type": "code",
      "source": [
        "def gradientDescentMulti(X, y, theta, alpha, num_iters):\n",
        "\n",
        "    # Inicializa algunos valores\n",
        "    m = y.shape[0] # numero de ejemplos de entrenamiento\n",
        "\n",
        "    # realiza una copia de theta, el cual será acutalizada por el descenso por el gradiente\n",
        "    theta = theta.copy()\n",
        "\n",
        "    J_history = []\n",
        "\n",
        "    for i in range(num_iters):\n",
        "        theta = theta - (alpha / m) * (np.dot(X, theta) - y).dot(X)\n",
        "        J_history.append(computeCostMulti(X, y, theta))\n",
        "\n",
        "    return theta, J_history"
      ],
      "metadata": {
        "id": "mTYUstgPtksk"
      },
      "execution_count": 55,
      "outputs": []
    },
    {
      "cell_type": "code",
      "source": [
        "# Elegir algun valor para alpha (probar varias alternativas)\n",
        "alpha = 0.001\n",
        "num_iters = 100000\n",
        "\n",
        "# inicializa theta y ejecuta el descenso por el gradiente\n",
        "theta = np.zeros(X.shape[1])\n",
        "theta, J_history = gradientDescentMulti(X, y, theta, alpha, num_iters)\n",
        "\n",
        "# Grafica la convergencia del costo\n",
        "pyplot.plot(np.arange(len(J_history)), J_history, lw=2)\n",
        "pyplot.xlabel('Numero de iteraciones')\n",
        "pyplot.ylabel('Costo J')\n",
        "\n",
        "# Muestra los resultados del descenso por el gradiente\n",
        "print('theta calculado por el descenso por el gradiente: {:s}'.format(str(theta)))\n",
        "\n",
        "# La capacidad adquisitiva de un ejemplo\n",
        "X_array = np.array([34, 1156, 10, 5, 200, 50, 3, 7])    # tus 4 features\n",
        "\n",
        "# Normalizamos\n",
        "X_norm_input = (X_array - mu) / sigma\n",
        "\n",
        "# Agregamos el bias\n",
        "X_norm_input = np.insert(X_norm_input, 0, 1)\n",
        "\n",
        "# Predicción\n",
        "price = np.dot(X_norm_input, theta)\n",
        "\n",
        "print('Predicción para el ejemplo dado (usando el descenso por el gradiente): {:.4f}'.format(price))\n"
      ],
      "metadata": {
        "colab": {
          "base_uri": "https://localhost:8080/",
          "height": 672
        },
        "id": "YGlSD3rwto3E",
        "outputId": "287c330b-d997-422a-e816-08edf8fd0e0f"
      },
      "execution_count": 56,
      "outputs": [
        {
          "output_type": "stream",
          "name": "stdout",
          "text": [
            "theta calculado por el descenso por el gradiente: [0.15474453 0.03292925 0.17488344]\n"
          ]
        },
        {
          "output_type": "error",
          "ename": "ValueError",
          "evalue": "operands could not be broadcast together with shapes (8,) (2,) ",
          "traceback": [
            "\u001b[0;31m---------------------------------------------------------------------------\u001b[0m",
            "\u001b[0;31mValueError\u001b[0m                                Traceback (most recent call last)",
            "\u001b[0;32m/tmp/ipython-input-2051396053.py\u001b[0m in \u001b[0;36m<cell line: 0>\u001b[0;34m()\u001b[0m\n\u001b[1;32m     19\u001b[0m \u001b[0;34m\u001b[0m\u001b[0m\n\u001b[1;32m     20\u001b[0m \u001b[0;31m# Normalizamos\u001b[0m\u001b[0;34m\u001b[0m\u001b[0;34m\u001b[0m\u001b[0m\n\u001b[0;32m---> 21\u001b[0;31m \u001b[0mX_norm_input\u001b[0m \u001b[0;34m=\u001b[0m \u001b[0;34m(\u001b[0m\u001b[0mX_array\u001b[0m \u001b[0;34m-\u001b[0m \u001b[0mmu\u001b[0m\u001b[0;34m)\u001b[0m \u001b[0;34m/\u001b[0m \u001b[0msigma\u001b[0m\u001b[0;34m\u001b[0m\u001b[0;34m\u001b[0m\u001b[0m\n\u001b[0m\u001b[1;32m     22\u001b[0m \u001b[0;34m\u001b[0m\u001b[0m\n\u001b[1;32m     23\u001b[0m \u001b[0;31m# Agregamos el bias\u001b[0m\u001b[0;34m\u001b[0m\u001b[0;34m\u001b[0m\u001b[0m\n",
            "\u001b[0;31mValueError\u001b[0m: operands could not be broadcast together with shapes (8,) (2,) "
          ]
        },
        {
          "output_type": "display_data",
          "data": {
            "text/plain": [
              "<Figure size 640x480 with 1 Axes>"
            ],
            "image/png": "[encoded data removed]"
          },
          "metadata": {}
        }
      ]
    },
    {
      "cell_type": "code",
      "source": [
        "# ========================\n",
        "# Continuación: 100 predicciones\n",
        "# ========================\n",
        "\n",
        "# Normalizamos TODO el dataset (X) con los mismos mu y sigma usados en entrenamiento\n",
        "\n",
        "# Agregamos la columna de bias (unos)\n",
        "\n",
        "\n",
        "# Mostrar las primeras 100 predicciones\n",
        "print(\"\\nPrimeras 100 predicciones del dataset:\")\n",
        "print(y_pred[:100])\n",
        "\n",
        "# (Opcional) Comparar con los valores reales\n",
        "print(\"\\nComparación primeras 100 (Real vs Predicho):\")\n",
        "for real, pred in zip(y[:100], y_pred[:100]):\n",
        "    print(f\"Real: {real:.4f}  -  Predicho: {pred:.4f}\")\n"
      ],
      "metadata": {
        "colab": {
          "base_uri": "https://localhost:8080/"
        },
        "id": "Kj6cqicYyNVs",
        "outputId": "8f329467-25aa-4883-c7db-a13cc0c42497"
      },
      "execution_count": 57,
      "outputs": [
        {
          "output_type": "stream",
          "name": "stdout",
          "text": [
            "\n",
            "Primeras 100 predicciones del dataset:\n",
            "[0.07405878 0.07405878 0.07405878 0.07405878 0.07405878 0.07405878\n",
            " 0.07405878 0.08416818 0.07405878 0.07405878 0.07405878 0.07405878\n",
            " 0.07405878 0.07405878 0.07405878 0.09427758 0.07405878 0.07405878\n",
            " 0.07405878 0.07405878 0.07405878 0.07405878 0.07405878 0.07405878\n",
            " 0.07405878 0.07405878 0.11449638 0.07405878 0.07405878 0.58511564\n",
            " 0.07405878 0.07405878 0.07405878 0.07405878 0.07405878 0.07405878\n",
            " 0.07405878 0.09427758 0.07405878 0.07405878 0.08416818 0.07405878\n",
            " 0.07405878 0.07405878 0.07405878 0.07405878 0.07405878 0.07405878\n",
            " 0.07405878 0.07405878 0.07405878 0.07405878 0.07405878 0.07405878\n",
            " 0.07405878 0.07405878 0.07405878 0.29430456 0.07405878 0.09427758\n",
            " 0.07405878 0.07405878 0.54957287 0.07405878 0.07405878 0.31626922\n",
            " 0.11449638 0.07405878 0.07405878 0.07405878 0.07405878 0.07405878\n",
            " 0.07405878 0.07405878 0.07405878 0.07405878 0.28092188 0.07405878\n",
            " 0.07405878 0.07405878 0.07405878 0.07405878 0.07405878 0.07405878\n",
            " 0.07405878 0.07405878 0.07405878 0.07405878 0.07405878 0.07405878\n",
            " 0.09427758 0.07405878 0.07405878 0.07405878 0.07405878 0.07405878\n",
            " 0.07405878 0.07405878 0.07405878 0.07405878]\n",
            "\n",
            "Comparación primeras 100 (Real vs Predicho):\n",
            "Real: 0.0000  -  Predicho: 0.0741\n",
            "Real: 0.0000  -  Predicho: 0.0741\n",
            "Real: 0.0000  -  Predicho: 0.0741\n",
            "Real: 0.0000  -  Predicho: 0.0741\n",
            "Real: 0.0000  -  Predicho: 0.0741\n",
            "Real: 0.0000  -  Predicho: 0.0741\n",
            "Real: 0.0000  -  Predicho: 0.0741\n",
            "Real: 0.0000  -  Predicho: 0.0842\n",
            "Real: 0.0000  -  Predicho: 0.0741\n",
            "Real: 0.0000  -  Predicho: 0.0741\n",
            "Real: 0.0000  -  Predicho: 0.0741\n",
            "Real: 0.0000  -  Predicho: 0.0741\n",
            "Real: 0.0000  -  Predicho: 0.0741\n",
            "Real: 0.0000  -  Predicho: 0.0741\n",
            "Real: 0.0000  -  Predicho: 0.0741\n",
            "Real: 0.0000  -  Predicho: 0.0943\n",
            "Real: 0.0000  -  Predicho: 0.0741\n",
            "Real: 0.0000  -  Predicho: 0.0741\n",
            "Real: 0.0000  -  Predicho: 0.0741\n",
            "Real: 0.0000  -  Predicho: 0.0741\n",
            "Real: 0.0000  -  Predicho: 0.0741\n",
            "Real: 0.0000  -  Predicho: 0.0741\n",
            "Real: 0.0000  -  Predicho: 0.0741\n",
            "Real: 0.0000  -  Predicho: 0.0741\n",
            "Real: 0.0000  -  Predicho: 0.0741\n",
            "Real: 0.0000  -  Predicho: 0.0741\n",
            "Real: 0.0000  -  Predicho: 0.1145\n",
            "Real: 0.0000  -  Predicho: 0.0741\n",
            "Real: 0.0000  -  Predicho: 0.0741\n",
            "Real: 0.0000  -  Predicho: 0.5851\n",
            "Real: 0.0000  -  Predicho: 0.0741\n",
            "Real: 0.0000  -  Predicho: 0.0741\n",
            "Real: 0.0000  -  Predicho: 0.0741\n",
            "Real: 0.0000  -  Predicho: 0.0741\n",
            "Real: 0.0000  -  Predicho: 0.0741\n",
            "Real: 0.0000  -  Predicho: 0.0741\n",
            "Real: 0.0000  -  Predicho: 0.0741\n",
            "Real: 0.0000  -  Predicho: 0.0943\n",
            "Real: 0.0000  -  Predicho: 0.0741\n",
            "Real: 0.0000  -  Predicho: 0.0741\n",
            "Real: 0.0000  -  Predicho: 0.0842\n",
            "Real: 0.0000  -  Predicho: 0.0741\n",
            "Real: 0.0000  -  Predicho: 0.0741\n",
            "Real: 0.0000  -  Predicho: 0.0741\n",
            "Real: 0.0000  -  Predicho: 0.0741\n",
            "Real: 0.0000  -  Predicho: 0.0741\n",
            "Real: 0.0000  -  Predicho: 0.0741\n",
            "Real: 0.0000  -  Predicho: 0.0741\n",
            "Real: 0.0000  -  Predicho: 0.0741\n",
            "Real: 0.0000  -  Predicho: 0.0741\n",
            "Real: 0.0000  -  Predicho: 0.0741\n",
            "Real: 0.0000  -  Predicho: 0.0741\n",
            "Real: 0.0000  -  Predicho: 0.0741\n",
            "Real: 0.0000  -  Predicho: 0.0741\n",
            "Real: 0.0000  -  Predicho: 0.0741\n",
            "Real: 0.0000  -  Predicho: 0.0741\n",
            "Real: 0.0000  -  Predicho: 0.0741\n",
            "Real: 0.0000  -  Predicho: 0.2943\n",
            "Real: 0.0000  -  Predicho: 0.0741\n",
            "Real: 0.0000  -  Predicho: 0.0943\n",
            "Real: 0.0000  -  Predicho: 0.0741\n",
            "Real: 0.0000  -  Predicho: 0.0741\n",
            "Real: 0.0000  -  Predicho: 0.5496\n",
            "Real: 0.0000  -  Predicho: 0.0741\n",
            "Real: 0.0000  -  Predicho: 0.0741\n",
            "Real: 1.0000  -  Predicho: 0.3163\n",
            "Real: 0.0000  -  Predicho: 0.1145\n",
            "Real: 0.0000  -  Predicho: 0.0741\n",
            "Real: 0.0000  -  Predicho: 0.0741\n",
            "Real: 0.0000  -  Predicho: 0.0741\n",
            "Real: 0.0000  -  Predicho: 0.0741\n",
            "Real: 0.0000  -  Predicho: 0.0741\n",
            "Real: 0.0000  -  Predicho: 0.0741\n",
            "Real: 0.0000  -  Predicho: 0.0741\n",
            "Real: 0.0000  -  Predicho: 0.0741\n",
            "Real: 0.0000  -  Predicho: 0.0741\n",
            "Real: 1.0000  -  Predicho: 0.2809\n",
            "Real: 0.0000  -  Predicho: 0.0741\n",
            "Real: 0.0000  -  Predicho: 0.0741\n",
            "Real: 0.0000  -  Predicho: 0.0741\n",
            "Real: 0.0000  -  Predicho: 0.0741\n",
            "Real: 0.0000  -  Predicho: 0.0741\n",
            "Real: 0.0000  -  Predicho: 0.0741\n",
            "Real: 0.0000  -  Predicho: 0.0741\n",
            "Real: 0.0000  -  Predicho: 0.0741\n",
            "Real: 0.0000  -  Predicho: 0.0741\n",
            "Real: 0.0000  -  Predicho: 0.0741\n",
            "Real: 0.0000  -  Predicho: 0.0741\n",
            "Real: 0.0000  -  Predicho: 0.0741\n",
            "Real: 0.0000  -  Predicho: 0.0741\n",
            "Real: 0.0000  -  Predicho: 0.0943\n",
            "Real: 0.0000  -  Predicho: 0.0741\n",
            "Real: 0.0000  -  Predicho: 0.0741\n",
            "Real: 0.0000  -  Predicho: 0.0741\n",
            "Real: 0.0000  -  Predicho: 0.0741\n",
            "Real: 0.0000  -  Predicho: 0.0741\n",
            "Real: 0.0000  -  Predicho: 0.0741\n",
            "Real: 0.0000  -  Predicho: 0.0741\n",
            "Real: 0.0000  -  Predicho: 0.0741\n",
            "Real: 0.0000  -  Predicho: 0.0741\n"
          ]
        }
      ]
    },
    {
      "cell_type": "markdown",
      "metadata": {
        "id": "-nMzqD8elHQ4"
      },
      "source": [
        "<a id=\"section7\"></a>\n",
        "### Ecuacion de la Normal\n",
        "\n",
        "Una manera de calcular rapidamente el modelo de una regresion lineal es:\n",
        "\n",
        "$$ \\theta = \\left( X^T X\\right)^{-1} X^T\\vec{y}$$\n",
        "\n",
        "Utilizando esta formula no requiere que se escale ninguna caracteristica, y se obtendra una solucion exacta con un solo calculo: no hay “bucles de convergencia” como en el descenso por el gradiente.\n",
        "\n",
        "Primero se recargan los datos para garantizar que las variables no esten modificadas. Recordar que no es necesario escalar las caracteristicas, se debe agregar la columna de unos a la matriz $X$ para tener el termino de intersección($\\theta_0$)."
      ]
    },
    {
      "cell_type": "code",
      "execution_count": 8,
      "metadata": {
        "id": "gVZdjjk9lHQ5"
      },
      "outputs": [],
      "source": [
        "def normalEqn(X, y):\n",
        "\n",
        "    theta = np.zeros(X.shape[1])\n",
        "\n",
        "    theta = np.dot(np.dot(np.linalg.inv(np.dot(X.T,X)),X.T),y)\n",
        "\n",
        "    return theta"
      ]
    },
    {
      "cell_type": "code",
      "execution_count": 60,
      "metadata": {
        "id": "Ybyw-FfolHQ5",
        "colab": {
          "base_uri": "https://localhost:8080/"
        },
        "outputId": "5ce1c4af-6de4-48c2-bb6d-1e557a13d4bc"
      },
      "outputs": [
        {
          "output_type": "stream",
          "name": "stdout",
          "text": [
            "Theta calculado a partir de la ecuación de la normal: [0.15474453 0.03292925 0.17488344]\n",
            "Precio predecido para una cada de superficie de 1650 sq-ft y 3 dormitorios (usando la ecuación de la normal): $17\n"
          ]
        }
      ],
      "source": [
        "# Calcula los parametros con la ecuación de la normal\n",
        "theta = normalEqn(X, y);\n",
        "\n",
        "# Muestra los resultados optenidos a partir de la aplicación de la ecuación de la normal\n",
        "print('Theta calculado a partir de la ecuación de la normal: {:s}'.format(str(theta)));\n",
        "\n",
        "# Estimar el precio para una casa de superficie de 1650 sq-ft y tres dormitorios\n",
        "\n",
        "X_array = [1, 500, 5]\n",
        "price = np.dot(X_array, theta)\n",
        "\n",
        "print('Precio predecido para una cada de superficie de 1650 sq-ft y 3 dormitorios (usando la ecuación de la normal): ${:.0f}'.format(price))"
      ]
    }
  ],
  "metadata": {
    "kernelspec": {
      "display_name": "Python 3",
      "language": "python",
      "name": "python3"
    },
    "language_info": {
      "codemirror_mode": {
        "name": "ipython",
        "version": 3
      },
      "file_extension": ".py",
      "mimetype": "text/x-python",
      "name": "python",
      "nbconvert_exporter": "python",
      "pygments_lexer": "ipython3",
      "version": "3.8.5"
    },
    "colab": {
      "provenance": []
    }
  },
  "nbformat": 4,
  "nbformat_minor": 0
}